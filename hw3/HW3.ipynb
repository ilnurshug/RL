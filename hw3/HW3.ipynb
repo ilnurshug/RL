{
 "cells": [
  {
   "cell_type": "code",
   "execution_count": 51,
   "metadata": {
    "collapsed": false
   },
   "outputs": [],
   "source": [
    "import numpy as np\n",
    "import random\n",
    "import matplotlib.pyplot as plt\n",
    "\n",
    "\n",
    "cards = [('2',2),('3',3),('4',4),('5',5),('6',6),('7',7),('8',8),('9',9),('10',10),\n",
    "         ('J',10),('Q',10),('K',10),\n",
    "         ('A',1)]\n",
    "\n",
    "def card_value(card):\n",
    "    return card[1]\n",
    "\n",
    "def card_is_ace(card):\n",
    "    return card[0] == 'A'\n",
    "\n",
    "\n",
    "states = []\n",
    "\n",
    "for dealer_card in cards:\n",
    "    for curr_sum in range(12, 22):\n",
    "        for usable_ace in ([True, False] if curr_sum <= 12 else [False]):\n",
    "            states.append((curr_sum, dealer_card, usable_ace))\n",
    "\n",
    "\n",
    "def s_curr_sum(s):\n",
    "    return s[0]\n",
    "\n",
    "def s_dealer_card(s):\n",
    "    return s[1]\n",
    "\n",
    "def s_usable_ace(s):\n",
    "    return s[2]\n",
    "\n",
    "def is_terminal(state):\n",
    "    if s_usable_ace(state) and s_curr_sum(state) == 11:\n",
    "        return True\n",
    "    return s_curr_sum(state) >= 21\n",
    "\n",
    "HIT = 0\n",
    "STICK = 1\n",
    "    \n",
    "def actions(state):\n",
    "    if s_curr_sum(state) < 21:\n",
    "        return [HIT, STICK]\n",
    "    return [STICK]\n",
    "\n",
    "\n",
    "def generate_episode(pi, s):\n",
    "    episode = []\n",
    "\n",
    "    while not is_terminal(s):\n",
    "        sp = random.uniform(0, 1)\n",
    "        if sp <= pi[(s, STICK)]:\n",
    "            episode.append((s, STICK))\n",
    "            break\n",
    "\n",
    "        episode.append((s, HIT))\n",
    "        nc = random.choice(cards)\n",
    "\n",
    "        new_sum = s_curr_sum(s) + card_value(nc)\n",
    "        if_usable_ace = new_sum <= 11 and (card_is_ace(nc) or s_usable_ace(s))\n",
    "        s = (new_sum, s_dealer_card(s), if_usable_ace)\n",
    "\n",
    "    if s_curr_sum(s) == 21:\n",
    "        episode.append((s, STICK))\n",
    "\n",
    "\n",
    "    nc = random.choice(cards)\n",
    "    ds = card_value(s_dealer_card(s)) + card_value(nc)\n",
    "    dealer_ace_sum = ds + 10\n",
    "\n",
    "    dealer_win = (card_is_ace(nc) or card_is_ace(s_dealer_card(s))) \\\n",
    "                           and s_curr_sum(s) <= dealer_ace_sum <= 21\n",
    "    \n",
    "    if dealer_win or s_curr_sum(s) <= ds <= 21 or s_curr_sum(s) >= 21:\n",
    "        return episode, -1\n",
    "    \n",
    "    return episode, +1\n",
    "\n",
    "\n",
    "def on_policy_first_visit_mc_control(eps, iter_num):\n",
    "    Q = {}\n",
    "    R = {}\n",
    "    pi = {}\n",
    "    for s in states:\n",
    "        for a in actions(s):\n",
    "            Q[(s, a)] = 0\n",
    "            R[(s, a)] = []\n",
    "            pi[(s, a)] = 1 / len(actions(s))\n",
    "\n",
    "    n = 0\n",
    "    while n < iter_num:\n",
    "        ss = random.choice(states)\n",
    "        episode, r = generate_episode(pi, ss)\n",
    "\n",
    "        for s, a in episode:\n",
    "            R[(s, a)].append(r)\n",
    "            Q[(s, a)] = np.mean(R[(s, a)])\n",
    "\n",
    "        episode_states = list(set([s for s, _ in episode]))\n",
    "        \n",
    "        for s in episode_states:\n",
    "            i = np.argmax([Q[(s, a)] for a in actions(s)])\n",
    "            max_a = actions(s)[i]\n",
    "            \n",
    "            for a in actions(s):\n",
    "                if a == max_a:\n",
    "                    pi[(s, a)] = 1 - eps + eps / len(actions(s))\n",
    "                else:\n",
    "                    pi[(s, a)] = eps / len(actions(s))\n",
    "\n",
    "        n += 1\n",
    "    return pi\n",
    "\n",
    "\n",
    "def win_rate(pi, n=1000):\n",
    "    win_cnt = 0\n",
    "    for _ in range(n):\n",
    "        episode, r = generate_episode(pi, random.choice(states))\n",
    "        if r == 1:\n",
    "            win_cnt += 1\n",
    "    return win_cnt / n"
   ]
  },
  {
   "cell_type": "code",
   "execution_count": 52,
   "metadata": {
    "collapsed": false
   },
   "outputs": [],
   "source": [
    "random.seed(666)\n",
    "\n",
    "win_rates = [rate for n in range(1,10000,100)\n",
    "             for pi in [on_policy_first_visit_mc_control(0.4, n)]\n",
    "             for rate in [win_rate(pi)]]"
   ]
  },
  {
   "cell_type": "code",
   "execution_count": 53,
   "metadata": {
    "collapsed": false
   },
   "outputs": [
    {
     "data": {
      "text/plain": [
       "[<matplotlib.lines.Line2D at 0x7fe740ac8eb8>]"
      ]
     },
     "execution_count": 53,
     "metadata": {},
     "output_type": "execute_result"
    },
    {
     "data": {
      "image/png": "[encoded data removed]",
      "text/plain": [
       "<matplotlib.figure.Figure at 0x7fe740af51d0>"
      ]
     },
     "metadata": {},
     "output_type": "display_data"
    }
   ],
   "source": [
    "%matplotlib inline\n",
    "plt.plot(range(1,10000,100), win_rates)"
   ]
  }
 ],
 "metadata": {
  "anaconda-cloud": {},
  "kernelspec": {
   "display_name": "Python [default]",
   "language": "python",
   "name": "python3"
  },
  "language_info": {
   "codemirror_mode": {
    "name": "ipython",
    "version": 3
   },
   "file_extension": ".py",
   "mimetype": "text/x-python",
   "name": "python",
   "nbconvert_exporter": "python",
   "pygments_lexer": "ipython3",
   "version": "3.5.2"
  }
 },
 "nbformat": 4,
 "nbformat_minor": 1
}
