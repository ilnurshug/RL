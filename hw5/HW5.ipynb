{
 "cells": [
  {
   "cell_type": "code",
   "execution_count": 1,
   "metadata": {
    "collapsed": false
   },
   "outputs": [],
   "source": [
    "import random\n",
    "from collections import defaultdict, namedtuple\n",
    "from enum import Enum\n",
    "import matplotlib.pyplot as plt\n",
    "import matplotlib.cm as cm\n",
    "from scipy.stats import bernoulli\n",
    "from functools import total_ordering\n",
    "\n",
    "import numpy as np\n",
    "from itertools import product\n",
    "\n",
    "\n",
    "@total_ordering\n",
    "class Action(Enum):\n",
    "    UP = 0\n",
    "    DOWN = 1\n",
    "    LEFT = 2\n",
    "    RIGHT = 3\n",
    "\n",
    "    def __lt__(self, other):\n",
    "        if self.__class__ is other.__class__:\n",
    "            return self.value < other.value\n",
    "        return NotImplemented\n",
    "\n",
    "width = 10\n",
    "height = 10\n",
    "\n",
    "\n",
    "class MDP:\n",
    "    def __init__(self, lion_pos=(height - 1, 0), cow_positions=([(0, width - 1)])):\n",
    "        self.lion_i, self.lion_j = lion_pos\n",
    "        self.cow_positions = cow_positions\n",
    "\n",
    "        self.START_STATE = (self.lion_i, self.lion_j, tuple(False for _ in cow_positions))\n",
    "        self.END_STATE = (self.lion_i, self.lion_j, tuple(True for _ in cow_positions))\n",
    "        \n",
    "        self.states = self._get_states()\n",
    "        self.actions = self._get_actions()\n",
    "        self.transitions = {(s, a): self._move(s, a) for s in self.states for a in self.actions[s]}\n",
    "        self.reward = self._get_reward()\n",
    "        \n",
    "    def reward_transition(self, s, a):\n",
    "        r = self.reward[(s,a)]\n",
    "        ss = self.transitions[(s,a)]\n",
    "        return r,ss\n",
    "        \n",
    "    def _cows_vec(s):\n",
    "        return s[2]\n",
    "       \n",
    "    def _valid_state(self, s):\n",
    "        return s[0] in range(0, height) and s[1] in range(0, width)\n",
    "\n",
    "    def _try_move(self, s, a):\n",
    "        next_s = None\n",
    "        if a == Action.UP:\n",
    "            next_s = (s[0] - 1, s[1], s[2])\n",
    "        elif a == Action.DOWN:\n",
    "            next_s = (s[0] + 1, s[1], s[2])\n",
    "        elif a == Action.LEFT:\n",
    "            next_s = (s[0], s[1] - 1, s[2])\n",
    "        elif a == Action.RIGHT:\n",
    "            next_s = (s[0], s[1] + 1, s[2])\n",
    "        return next_s\n",
    "        \n",
    "    def _move(self, cell, direction):\n",
    "        next_cell = self._try_move(cell, direction)\n",
    "        \n",
    "        if not self._valid_state(next_cell):\n",
    "            return cell\n",
    "        \n",
    "        if (next_cell[0], next_cell[1]) in self.cow_positions:\n",
    "            cow_ind = self.cow_positions.index((next_cell[0], next_cell[1]))\n",
    "            new_cow_vec = tuple(True if i == cow_ind else e for i, e in enumerate(cell[2]))\n",
    "            next_cell = (next_cell[0], next_cell[1], new_cow_vec)\n",
    "\n",
    "        return next_cell\n",
    "\n",
    "    def _get_actions(self):\n",
    "        actions = {}\n",
    "        for s in self.states:\n",
    "            actions[s] = []\n",
    "            if s[0] > 0:\n",
    "                actions[s].append(Action.UP)\n",
    "            if s[0] < height - 1:\n",
    "                actions[s].append(Action.DOWN)\n",
    "            if s[1] > 0:\n",
    "                actions[s].append(Action.LEFT)\n",
    "            if s[1] < width -1:\n",
    "                actions[s].append(Action.RIGHT)\n",
    "                \n",
    "        return actions\n",
    "\n",
    "    def _get_reward(self):\n",
    "        reward_partial = {}\n",
    "\n",
    "        for s in self.states:\n",
    "            for a in self.actions[s]:\n",
    "                next_state = self.transitions[(s, a)]\n",
    "                if next_state == self.END_STATE:\n",
    "                    reward_partial[(s, a)] = 100\n",
    "                if (next_state[0], next_state[1]) in self.cow_positions:\n",
    "                    cow_ind = self.cow_positions.index((next_state[0], next_state[1]))\n",
    "                    if not s[2][cow_ind]:\n",
    "                        reward_partial[(s, a)] = 50\n",
    "\n",
    "        return defaultdict(int, reward_partial)\n",
    "\n",
    "    def _get_states(self):\n",
    "        states = []\n",
    "        for i in range(height):\n",
    "            for j in range(width):\n",
    "                ncows = len(self.cow_positions)\n",
    "                if (i, j) in self.cow_positions:\n",
    "                    indx = self.cow_positions.index((i, j))\n",
    "                    cvs = tuple(prod for prod in product([False, True], repeat=ncows) if prod[indx])\n",
    "                else:\n",
    "                    cvs = tuple(product([False, True], repeat=ncows))\n",
    "                    \n",
    "                for cw in cvs:\n",
    "                    states.append((i, j, cw))\n",
    "\n",
    "        return states"
   ]
  },
  {
   "cell_type": "code",
   "execution_count": 2,
   "metadata": {
    "collapsed": false
   },
   "outputs": [],
   "source": [
    "mdp = MDP(cow_positions=[(height - 1,width - 1), (0, width - 1)])"
   ]
  },
  {
   "cell_type": "code",
   "execution_count": 3,
   "metadata": {
    "collapsed": true
   },
   "outputs": [],
   "source": [
    "def eps_greedy(mdp, Q, eps, s):    \n",
    "    best_act = mdp.actions[s][np.argmax(\n",
    "            [Q[(s, a)] for a in mdp.actions[s]]\n",
    "        )]\n",
    "    rand_act = random.choice(mdp.actions[s])\n",
    "    prob = random.uniform(0, 1)\n",
    "    if prob < eps:\n",
    "        return rand_act\n",
    "    return best_act"
   ]
  },
  {
   "cell_type": "code",
   "execution_count": 119,
   "metadata": {
    "collapsed": false
   },
   "outputs": [],
   "source": [
    "R = {(s, a): 0 for s in mdp.states for a in mdp.actions[s]}\n",
    "T = {(s, a): random.choice(mdp.states) for s in mdp.states for a in mdp.actions[s]}\n",
    "M = {sa: (r, ss) for sa in R for r in [R[sa]] for ss in [T[sa]]}"
   ]
  },
  {
   "cell_type": "code",
   "execution_count": 120,
   "metadata": {
    "collapsed": false
   },
   "outputs": [],
   "source": [
    "def init(mdp):\n",
    "    Q = {(s, a): 0 for s in mdp.states for a in mdp.actions[s]}\n",
    "\n",
    "    return Q, M"
   ]
  },
  {
   "cell_type": "code",
   "execution_count": 121,
   "metadata": {
    "collapsed": false
   },
   "outputs": [],
   "source": [
    "def dyna_q(mdp, alpha, gamma, n, eps, iter_cnt=None, theta=None):\n",
    "    iterations = []\n",
    "    cumrewards = []\n",
    "    episodes = []\n",
    "\n",
    "    Q, model = init(mdp)\n",
    "\n",
    "    niter = 0\n",
    "    epi_cnt = 0\n",
    "    cumreward = 0\n",
    "    visited_states = set([mdp.START_STATE])\n",
    "    visited_sa = set([])\n",
    "\n",
    "    ss = mdp.START_STATE\n",
    "    while niter < iter_cnt:\n",
    "        s = ss\n",
    "        if s == mdp.END_STATE:\n",
    "            epi_cnt += 1\n",
    "            s = mdp.START_STATE\n",
    "\n",
    "        # acting\n",
    "        act = eps_greedy(mdp, Q, eps, s)\n",
    "        r, ss = mdp.reward_transition(s, act)\n",
    "#         r = mdp.reward[(s, act)]\n",
    "#         ss = mdp.transitions[(s, act)]\n",
    "\n",
    "        visited_states.add(ss)\n",
    "        visited_sa.add((s,act))\n",
    "        \n",
    "        cumreward += r\n",
    "        cumrewards.append(cumreward)\n",
    "        iterations.append(niter)\n",
    "        episodes.append(epi_cnt)\n",
    "        \n",
    "        # direct RL\n",
    "        Q[(s, act)] += alpha * (r + gamma * max([Q[(ss, aa)] for aa in mdp.actions[ss]]) - Q[(s, act)])\n",
    "        # model learning\n",
    "        model[(s, act)] = r, ss\n",
    "\n",
    "        # n-step planning\n",
    "        for _ in range(n):\n",
    "            (ps,pa) = random.choice(list(visited_sa))\n",
    "            r, sss = model[(ps, pa)]\n",
    "            \n",
    "            Q[(ps, pa)] += alpha * (r + gamma * np.max([Q[(sss, a)] for a in mdp.actions[sss]]) - Q[(ps, pa)])\n",
    "        \n",
    "        niter += 1\n",
    "    return Q, iterations, episodes, cumrewards"
   ]
  },
  {
   "cell_type": "code",
   "execution_count": 122,
   "metadata": {
    "collapsed": true
   },
   "outputs": [],
   "source": [
    "random.seed(42)"
   ]
  },
  {
   "cell_type": "code",
   "execution_count": 123,
   "metadata": {
    "collapsed": true
   },
   "outputs": [],
   "source": [
    "import heapq as hq\n",
    "\n",
    "\n",
    "def dyna_q_prioritized_sweeping(mdp, alpha, gamma, n, eps, theta, maxiter):\n",
    "    niter = 0\n",
    "    cumreward = 0\n",
    "    iterations = []\n",
    "    cumrewards = []\n",
    "    \n",
    "    descendants = {}\n",
    "\n",
    "    quality, model = init(mdp)\n",
    "    pqueue = []\n",
    "\n",
    "    visited_states = {mdp.START_STATE}\n",
    "    SS = mdp.START_STATE\n",
    "    while True:\n",
    "        S = SS\n",
    "        if S == mdp.END_STATE:\n",
    "            S = mdp.START_STATE\n",
    "\n",
    "        A = eps_greedy(mdp, quality, eps, S)\n",
    "        R, SS = mdp.reward_transition(S, A)\n",
    "#         R = mdp.reward[(S, A)]\n",
    "#         SS = mdp.transitions[(S, A)]\n",
    "\n",
    "        cumreward += R\n",
    "        iterations.append(niter)\n",
    "        cumrewards.append(cumreward)\n",
    "\n",
    "#         if descendants.get(SS, None) is None:\n",
    "#            descendants[SS] = set([])\n",
    "#         descendants[SS].add((S, A))\n",
    "        \n",
    "        visited_states.add(SS)\n",
    "        model[(S, A)] = R, SS\n",
    "        max_diff = max(quality[(SS, a)] - quality[(S, A)] for a in mdp.actions[SS])\n",
    "        P = abs(R + gamma * max_diff)\n",
    "       \n",
    "        if P > theta:\n",
    "            hq.heappush(pqueue, (-P, S, A))\n",
    "            \n",
    "        for _ in range(n):\n",
    "            if len(pqueue) == 0:\n",
    "                break\n",
    "            _, s, act = hq.heappop(pqueue)\n",
    "            r, ss = model[(s, act)]\n",
    "            max_diff_in = max(quality[(ss, a)] - quality[(s, act)] for a in mdp.actions[ss])\n",
    "            quality[(s, act)] += alpha * (r + gamma * max_diff_in)\n",
    "\n",
    "#             for ps,pa in descendants.get(s,[]):\n",
    "#                 pr, ss = model[(ps, pa)]\n",
    "#                 if ss != s:\n",
    "#                     continue\n",
    "\n",
    "#                 max_diff_in_in = max(quality[(s, a)] - quality[(ps, pa)] for a in mdp.actions[s])\n",
    "#                 p = abs(pr + gamma * max_diff_in_in)\n",
    "#                 if p > theta:\n",
    "#                     hq.heappush(pqueue, (-p, ps, pa))\n",
    "        \n",
    "            for ps in mdp.states:\n",
    "                for pa in mdp.actions[ps]:\n",
    "                    pr, ss = model[(ps, pa)]\n",
    "                    if ss != s:\n",
    "                        continue\n",
    "\n",
    "                    max_diff_in_in = max(quality[(s, a)] - quality[(ps, pa)] for a in mdp.actions[s])\n",
    "                    p = abs(pr + gamma * max_diff_in_in)\n",
    "                    if p > theta:\n",
    "                        hq.heappush(pqueue, (-p, ps, pa))\n",
    "\n",
    "        niter += 1\n",
    "        if maxiter is not None:\n",
    "            if niter >= maxiter:\n",
    "                return quality, iterations, cumrewards\n"
   ]
  },
  {
   "cell_type": "code",
   "execution_count": 127,
   "metadata": {
    "collapsed": false
   },
   "outputs": [],
   "source": [
    "_, i, cr = dyna_q_prioritized_sweeping(mdp, alpha=0.8, gamma=0.8, n=5, maxiter=20000, eps=0.8, theta=1)"
   ]
  },
  {
   "cell_type": "code",
   "execution_count": 153,
   "metadata": {
    "collapsed": false
   },
   "outputs": [],
   "source": [
    "_, i2, _, cr2 = dyna_q(mdp, alpha=0.8, gamma=0.8, n=5, iter_cnt=20000, eps=0.8)"
   ]
  },
  {
   "cell_type": "code",
   "execution_count": 125,
   "metadata": {
    "collapsed": true
   },
   "outputs": [],
   "source": [
    "_, i3, _, cr3 = dyna_q(mdp, alpha=0.8, gamma=0.8, n=0, iter_cnt=20000, eps=0.8)"
   ]
  },
  {
   "cell_type": "code",
   "execution_count": 154,
   "metadata": {
    "collapsed": false
   },
   "outputs": [
    {
     "data": {
      "image/png": "[encoded data removed]",
      "text/plain": [
       "<matplotlib.figure.Figure at 0x7f206b9063c8>"
      ]
     },
     "metadata": {},
     "output_type": "display_data"
    }
   ],
   "source": [
    "plt.plot(i, cr)\n",
    "plt.plot(i2, cr2)\n",
    "plt.plot(i3, cr3)\n",
    "plt.xlabel('Time steps')\n",
    "plt.ylabel('Cum. Reward')\n",
    "plt.title('Comparison')\n",
    "plt.legend(['Dyna-Q+', 'Dyna-Q', 'Q-learning'], loc='upper left')\n",
    "plt.show()"
   ]
  },
  {
   "cell_type": "code",
   "execution_count": 112,
   "metadata": {
    "collapsed": true
   },
   "outputs": [],
   "source": [
    "class SMDP(MDP):\n",
    "    def __init__(self, lion_pos=(height - 1, 0), cow_positions=([(0, width - 1)])):\n",
    "        super().__init__(lion_pos, cow_positions)\n",
    "    \n",
    "    @staticmethod\n",
    "    def _inverse(a):\n",
    "        if a == Action.UP:\n",
    "            return Action.DOWN\n",
    "        elif a == Action.DOWN:\n",
    "            return Action.UP\n",
    "        elif a == Action.LEFT:\n",
    "            return Action.RIGHT\n",
    "        elif a == Action.RIGHT:\n",
    "            return Action.LEFT\n",
    "    \n",
    "    def _transitions_func(self, s, a):\n",
    "        prob = random.uniform(0, 1)\n",
    "        if prob <= 0.7:\n",
    "            aa = a\n",
    "        else:\n",
    "            aa = self._inverse(a)\n",
    "        return self._move(s, aa), aa\n",
    "\n",
    "    def reward_transition(self, s, a):\n",
    "        ss, aa = self._transitions_func(s, a)\n",
    "        r = self.reward[(s, aa)]\n",
    "        return r, ss"
   ]
  },
  {
   "cell_type": "code",
   "execution_count": 113,
   "metadata": {
    "collapsed": true
   },
   "outputs": [],
   "source": [
    "smdp = SMDP(cow_positions=[(height - 1,width - 1), (0, width - 1)])"
   ]
  },
  {
   "cell_type": "code",
   "execution_count": 116,
   "metadata": {
    "collapsed": false
   },
   "outputs": [],
   "source": [
    "_, i_, cr_ = dyna_q_prioritized_sweeping(smdp, alpha=0.8, gamma=0.8, n=5, maxiter=10000, eps=0.8, theta=1)"
   ]
  },
  {
   "cell_type": "code",
   "execution_count": 155,
   "metadata": {
    "collapsed": true
   },
   "outputs": [],
   "source": [
    "_, i2_, _, cr2_ = dyna_q(smdp, alpha=0.8, gamma=0.8, n=5, iter_cnt=10000, eps=0.8)"
   ]
  },
  {
   "cell_type": "code",
   "execution_count": 115,
   "metadata": {
    "collapsed": true
   },
   "outputs": [],
   "source": [
    "_, i3_, _, cr3_ = dyna_q(smdp, alpha=0.8, gamma=0.8, n=0, iter_cnt=10000, eps=0.8)"
   ]
  },
  {
   "cell_type": "code",
   "execution_count": 156,
   "metadata": {
    "collapsed": false
   },
   "outputs": [
    {
     "data": {
      "image/png": "[encoded data removed]",
      "text/plain": [
       "<matplotlib.figure.Figure at 0x7f206eead080>"
      ]
     },
     "metadata": {},
     "output_type": "display_data"
    }
   ],
   "source": [
    "plt.plot(i_, cr_)\n",
    "plt.plot(i2_, cr2_)\n",
    "plt.plot(i3_, cr3_)\n",
    "plt.xlabel('Time steps')\n",
    "plt.ylabel('Cum. Reward')\n",
    "plt.title('Comparison')\n",
    "plt.legend(['Dyna-Q+', 'Dyna-Q', 'Q-learning'], loc='upper left')\n",
    "plt.show()"
   ]
  }
 ],
 "metadata": {
  "anaconda-cloud": {},
  "kernelspec": {
   "display_name": "Python [default]",
   "language": "python",
   "name": "python3"
  },
  "language_info": {
   "codemirror_mode": {
    "name": "ipython",
    "version": 3
   },
   "file_extension": ".py",
   "mimetype": "text/x-python",
   "name": "python",
   "nbconvert_exporter": "python",
   "pygments_lexer": "ipython3",
   "version": "3.5.2"
  }
 },
 "nbformat": 4,
 "nbformat_minor": 1
}
